{
  "nbformat": 4,
  "nbformat_minor": 0,
  "metadata": {
    "accelerator": "GPU",
    "colab": {
      "name": "MnistDataset.ipynb",
      "provenance": [],
      "collapsed_sections": [],
      "authorship_tag": "ABX9TyPYXGYRr/LVSMbMFf1glFJk",
      "include_colab_link": true
    },
    "kernelspec": {
      "display_name": "Python 3",
      "name": "python3"
    },
    "language_info": {
      "name": "python"
    }
  },
  "cells": [
    {
      "cell_type": "markdown",
      "metadata": {
        "id": "view-in-github",
        "colab_type": "text"
      },
      "source": [
        "<a href=\"https://colab.research.google.com/github/edanurb/Recognition-of-Handwritten-Digits/blob/main/MnistDataset.ipynb\" target=\"_parent\"><img src=\"https://colab.research.google.com/assets/colab-badge.svg\" alt=\"Open In Colab\"/></a>"
      ]
    },
    {
      "cell_type": "code",
      "metadata": {
        "id": "qYTCY3gm4fLs"
      },
      "source": [
        "import torch\n",
        "from  torchvision.datasets import MNIST\n",
        "from torchvision.transforms import ToTensor"
      ],
      "execution_count": null,
      "outputs": []
    },
    {
      "cell_type": "code",
      "metadata": {
        "id": "-cSD7ogr5Dbb"
      },
      "source": [
        "dataset=MNIST(root=\"data/\", download=True,transform=ToTensor())"
      ],
      "execution_count": null,
      "outputs": []
    },
    {
      "cell_type": "code",
      "metadata": {
        "id": "LdHX0qLE6XlT"
      },
      "source": [
        "def set_device():\n",
        "  if torch.cuda.is_available():\n",
        "    return torch.device('cuda')\n",
        "  return torch.device('cpu')\n"
      ],
      "execution_count": null,
      "outputs": []
    },
    {
      "cell_type": "code",
      "metadata": {
        "id": "W5BOeNu_88DC"
      },
      "source": [
        "def to_device(data,device):\n",
        "  #if isinstance(data, (list,tuple)):\n",
        "   #     return [to_device(x, device) for x in data]\n",
        "  return data.to(device,non_blocking=True)"
      ],
      "execution_count": null,
      "outputs": []
    },
    {
      "cell_type": "code",
      "metadata": {
        "id": "ui5vtYFN87M_"
      },
      "source": [
        "\n",
        "class DeviceDataLoader():\n",
        "  def __init__(self,data,device):\n",
        "    self.data=data\n",
        "    self.device=device\n",
        "  \n",
        "  def __iter__(self):\n",
        "    for x,y in self.data:\n",
        "      yield to_device(x,self.device) ,to_device(y,self.device)\n",
        "\n"
      ],
      "execution_count": null,
      "outputs": []
    },
    {
      "cell_type": "code",
      "metadata": {
        "id": "zJ5sHi6j96B_"
      },
      "source": [
        "from torch.utils.data.dataloader import DataLoader\n",
        "from torch.utils.data import random_split\n",
        "\n",
        "batch_size=128\n",
        "\n",
        "train_set,val_set= random_split(dataset,[50000,10000])\n",
        "train_loader=DataLoader(train_set,batch_size,shuffle=True,num_workers=2,pin_memory=True)\n",
        "val_loader=DataLoader(val_set,batch_size,num_workers=2,pin_memory=True)\n"
      ],
      "execution_count": null,
      "outputs": []
    },
    {
      "cell_type": "code",
      "metadata": {
        "id": "D749TScO-k_A"
      },
      "source": [
        "device=set_device()\n",
        "\n",
        "train_loader=DeviceDataLoader(train_loader,device)\n",
        "val_loader=DeviceDataLoader(val_loader,device)\n"
      ],
      "execution_count": null,
      "outputs": []
    },
    {
      "cell_type": "code",
      "metadata": {
        "id": "w0eIr7kZEhlJ"
      },
      "source": [
        "import torch.nn as nn\n",
        "import torch.nn.functional as F\n",
        "\n",
        "def accurate(pred,outputs):\n",
        "  value,preds=torch.max(pred,dim=1)\n",
        "  return torch.tensor(torch.sum(preds==outputs).item()/len(preds))\n",
        "\n",
        "class MyModel(torch.nn.Module):\n",
        "  def __init__(self,hiddenlayer_size,input_size,output_size):\n",
        "    super().__init__()\n",
        "    self.hiddenlayer=nn.Linear(input_size,hiddenlayer_size)\n",
        "    self.outputlayer=nn.Linear(hiddenlayer_size,output_size)\n",
        "\n",
        "  def forward(self,x):\n",
        "    #flatten image\n",
        "    x = x.view(x.size(0), -1)\n",
        "    #hidden layer outputs\n",
        "    y_hidden=self.hiddenlayer(x)\n",
        "    #activation function\n",
        "    active=F.relu(y_hidden)\n",
        "    #predictions\n",
        "    out=self.outputlayer(active)\n",
        "    return out\n",
        "\n",
        "  def train_step(self,x,y):\n",
        "    #generate prediction\n",
        "    pred= self(x)\n",
        "    loss=F.cross_entropy(pred,y)\n",
        "    return loss\n",
        "\n",
        "  def val_step(self,x,y):\n",
        "    preds=self(x)\n",
        "    acc=accurate(preds,y)\n",
        "    loss=F.cross_entropy(preds,y)\n",
        "    return {'val_acc': acc.item(),'val_loss': loss.item()}\n",
        "    \n"
      ],
      "execution_count": null,
      "outputs": []
    },
    {
      "cell_type": "code",
      "metadata": {
        "colab": {
          "base_uri": "https://localhost:8080/"
        },
        "id": "tYkK64Da5UUa",
        "outputId": "19a3bd2c-1ba6-47d0-dcfe-ca80a1155072"
      },
      "source": [
        "model=MyModel(36,784,10)\n",
        "to_device(model,device)\n"
      ],
      "execution_count": null,
      "outputs": [
        {
          "output_type": "execute_result",
          "data": {
            "text/plain": [
              "MyModel(\n",
              "  (hiddenlayer): Linear(in_features=784, out_features=36, bias=True)\n",
              "  (outputlayer): Linear(in_features=36, out_features=10, bias=True)\n",
              ")"
            ]
          },
          "metadata": {
            "tags": []
          },
          "execution_count": 104
        }
      ]
    },
    {
      "cell_type": "code",
      "metadata": {
        "id": "J8-IofF_Aqey"
      },
      "source": [
        "def print_acc_loss(epoch,acc,loss):\n",
        "  print(\"Epoch[{}]  val_acc:{}  val_loss:{}\".format(epoch,sum(acc)/len(acc),sum(loss)/len(loss)))\n",
        "  \n",
        "\n",
        "def fit(model,epoch_size,train_laoder,val_loader,lr,opt=torch.optim.SGD):\n",
        "  optimizer=opt(model.parameters(),lr)\n",
        "  for epoch in range(epoch_size):\n",
        "    acc_list=[]\n",
        "    loss_list=[]\n",
        "    #train \n",
        "    for x,y in train_loader:\n",
        "      loss=model.train_step(x,y)\n",
        "      loss.backward()\n",
        "      optimizer.step()\n",
        "      optimizer.zero_grad()\n",
        "\n",
        "    for x,y in val_loader:\n",
        "      values=model.val_step(x,y)\n",
        "      acc_list.append(values['val_acc'])\n",
        "      loss_list.append(values['val_loss'])\n",
        "    print_acc_loss(epoch,acc_list,loss_list)\n"
      ],
      "execution_count": null,
      "outputs": []
    },
    {
      "cell_type": "code",
      "metadata": {
        "colab": {
          "base_uri": "https://localhost:8080/"
        },
        "id": "LquQ4hSWDoJx",
        "outputId": "6d3d7b68-bf6d-4de9-a392-78836312fc11"
      },
      "source": [
        "fit(model,5,train_loader,val_loader,0.5)"
      ],
      "execution_count": null,
      "outputs": [
        {
          "output_type": "stream",
          "text": [
            "Epoch[0]  val_acc:0.9591574367088608  val_loss:0.13550962894400465\n",
            "Epoch[1]  val_acc:0.9618275316455697  val_loss:0.13092784739181965\n",
            "Epoch[2]  val_acc:0.961629746835443  val_loss:0.12916434513805788\n",
            "Epoch[3]  val_acc:0.9657832278481012  val_loss:0.11339358360612695\n",
            "Epoch[4]  val_acc:0.9642998417721519  val_loss:0.11806925390905972\n"
          ],
          "name": "stdout"
        }
      ]
    },
    {
      "cell_type": "code",
      "metadata": {
        "colab": {
          "base_uri": "https://localhost:8080/"
        },
        "id": "OIjtHGOkG62s",
        "outputId": "052d0599-ee31-4f3f-9c06-8cba7e0b674b"
      },
      "source": [
        "fit(model,5,train_loader,val_loader,0.1)"
      ],
      "execution_count": null,
      "outputs": [
        {
          "output_type": "stream",
          "text": [
            "Epoch[0]  val_acc:0.9677610759493671  val_loss:0.10784965388099604\n",
            "Epoch[1]  val_acc:0.9682555379746836  val_loss:0.10368407489378241\n",
            "Epoch[2]  val_acc:0.9674643987341772  val_loss:0.10414182602227488\n",
            "Epoch[3]  val_acc:0.9682555379746836  val_loss:0.10463703770331945\n",
            "Epoch[4]  val_acc:0.9691455696202531  val_loss:0.10375046678170373\n"
          ],
          "name": "stdout"
        }
      ]
    },
    {
      "cell_type": "code",
      "metadata": {
        "id": "7ttH-Ud_IcC2"
      },
      "source": [
        "def make_pred(img,model,device):\n",
        "    img=to_device(img,device)\n",
        "    _, pred=torch.max(model(img),dim=1)\n",
        "    return pred.item()"
      ],
      "execution_count": null,
      "outputs": []
    },
    {
      "cell_type": "code",
      "metadata": {
        "colab": {
          "base_uri": "https://localhost:8080/"
        },
        "id": "egnh7MIyJFtN",
        "outputId": "45bab873-5cb7-462a-a9d2-2694dd16600d"
      },
      "source": [
        "test_dataset = MNIST(root='data/', \n",
        "                     train=False,\n",
        "                     transform=ToTensor())\n",
        "\n",
        "\n",
        "for i in range(15):\n",
        "  img,label=test_dataset[i]\n",
        "  print(\"pred:{}   label:{}\".format(make_pred(img,model,device),label))"
      ],
      "execution_count": null,
      "outputs": [
        {
          "output_type": "stream",
          "text": [
            "pred:7   label:7\n",
            "pred:2   label:2\n",
            "pred:1   label:1\n",
            "pred:0   label:0\n",
            "pred:4   label:4\n",
            "pred:1   label:1\n",
            "pred:4   label:4\n",
            "pred:9   label:9\n",
            "pred:5   label:5\n",
            "pred:9   label:9\n",
            "pred:0   label:0\n",
            "pred:6   label:6\n",
            "pred:9   label:9\n",
            "pred:0   label:0\n",
            "pred:1   label:1\n"
          ],
          "name": "stdout"
        }
      ]
    }
  ]
}